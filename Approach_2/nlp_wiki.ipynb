{
 "cells": [
  {
   "cell_type": "code",
   "execution_count": 1,
   "metadata": {},
   "outputs": [],
   "source": [
    "import pandas as pd\n",
    "import numpy as np\n",
    "import wikipedia\n",
    "import warnings\n",
    "from string import punctuation\n",
    "import tqdm\n",
    "import time\n",
    "from tqdm import trange\n",
    "from time import sleep\n",
    "\n",
    "warnings.filterwarnings('ignore')"
   ]
  },
  {
   "cell_type": "code",
   "execution_count": 112,
   "metadata": {},
   "outputs": [
    {
     "name": "stdout",
     "output_type": "stream",
     "text": [
      "(450,)\n"
     ]
    }
   ],
   "source": [
    "# premises = pd.read_csv('sample_premises.csv',header=None)\n",
    "# premises = premises.values\n",
    "# premises = np.array([x[0] for x in premises])\n",
    "# for char in punctuation:\n",
    "#     for i in range(len(premises)):\n",
    "#         premises[i] = premises[i].replace(char,'')\n",
    "# print(premises.shape)\n",
    "# premises = premises[:5]"
   ]
  },
  {
   "cell_type": "code",
   "execution_count": 12,
   "metadata": {},
   "outputs": [
    {
     "name": "stderr",
     "output_type": "stream",
     "text": [
      "100%|████████████████████████████████████████████████████████████████████████████████████| 1/1 [00:00<00:00,  1.41it/s]"
     ]
    },
    {
     "name": "stdout",
     "output_type": "stream",
     "text": [
      "Rocky is the second video game based on the popular series of Rocky movies, released for the Sega Master System in 1987. The player must train Rocky Balboa before each fight to improve his skills. Rocky possesses a straight punch, a hook, an uppercut, and body punch as well as various combos.\n",
      "\n",
      "\n",
      "== Summary ==\n",
      "The opponents, in order, are: Apollo Creed, Clubber Lang, and Ivan Drago.\n",
      "Fights are of 15 rounds duration, with an increasing level of difficulty depending on the opponent, and different strategies required to overcome each.\n",
      "The game also features a two-player mode where player two can choose from any of the above opponents, while player one always controls Rocky.\n",
      "\n",
      "\n",
      "== Reception ==\n",
      "Computer Gaming World in 1988 stated that Rocky had \"the most eye-popping graphics\".\n",
      "\n",
      "\n",
      "== References ==\n",
      "\n",
      "\n",
      "== External links ==\n",
      "Rocky (1987 video game) at MobyGames\n",
      "Movie Game Database\n"
     ]
    },
    {
     "name": "stderr",
     "output_type": "stream",
     "text": [
      "\n"
     ]
    }
   ],
   "source": [
    "data = []\n",
    "# premises = ['sadjkhasfiuahf;asfh']\n",
    "for i in trange(1):\n",
    "    query = \"To fight Ivan Drago in Rocky for sega master system\"\n",
    "#     query = premises[i]\n",
    "    temp = []\n",
    "    summary = \"None\"\n",
    "    result = \"None\"\n",
    "    results = wikipedia.search(query)\n",
    "#     print(query + ': ')\n",
    "#     print(results)\n",
    "    index = 0\n",
    "    flag = True\n",
    "    while flag and index<len(results):\n",
    "        try:\n",
    "            result = results[index]\n",
    "            wiki_page = wikipedia.page(result, auto_suggest=False)\n",
    "            summary = wiki_page.content\n",
    "            print(summary)\n",
    "#             print('\\n')\n",
    "            flag=False\n",
    "        except:\n",
    "            index+=1\n",
    "            print('error in wiki try block')\n",
    "#             print(\"Error\")\n",
    "    temp.append(query)\n",
    "    temp.append(result)\n",
    "    temp.append(summary)\n",
    "    \n",
    "    data.append(temp)\n",
    "    \n",
    "\n",
    "\n",
    "# using try blocks to catch exceptions, and then using wikipedia.suggest in the exception handling\n",
    "\n",
    "# also try for DV, other spell checkers and abbreviations checker library for python"
   ]
  },
  {
   "cell_type": "code",
   "execution_count": 11,
   "metadata": {},
   "outputs": [
    {
     "name": "stdout",
     "output_type": "stream",
     "text": [
      "[['To fight Ivan Drago in Rocky for sega master system', 'Rocky (1987 video game)', 'Rocky is the second video game based on the popular series of Rocky movies, released for the Sega Master System in 1987. The player must train Rocky Balboa before each fight to improve his skills. Rocky possesses a straight punch, a hook, an uppercut, and body punch as well as various combos.']]\n"
     ]
    }
   ],
   "source": [
    "print(data)\n",
    "# df = pd.DataFrame(data, columns = ['query', 'result', 'summary']) \n",
    "# df.to_csv('wiki_results.csv', index=False)"
   ]
  },
  {
   "cell_type": "code",
   "execution_count": 68,
   "metadata": {},
   "outputs": [],
   "source": [
    "# # ['replace drawer with bobby pin', 'finish, woodgrain with  bobby pin']\n",
    "# query = \"To fight Ivan Drago in Rocky for sega master system\"\n",
    "# result = wikipedia.search(query)\n",
    "# print(result)\n",
    "# url0 = result[0]\n",
    "# wiki_page = wikipedia.page(url0, auto_suggest=False)\n",
    "# summary = wiki_page.summary"
   ]
  },
  {
   "cell_type": "code",
   "execution_count": 69,
   "metadata": {},
   "outputs": [],
   "source": [
    "# print(summary)"
   ]
  },
  {
   "cell_type": "code",
   "execution_count": null,
   "metadata": {},
   "outputs": [],
   "source": []
  }
 ],
 "metadata": {
  "kernelspec": {
   "display_name": "Python 3",
   "language": "python",
   "name": "python3"
  },
  "language_info": {
   "codemirror_mode": {
    "name": "ipython",
    "version": 3
   },
   "file_extension": ".py",
   "mimetype": "text/x-python",
   "name": "python",
   "nbconvert_exporter": "python",
   "pygments_lexer": "ipython3",
   "version": "3.6.10"
  }
 },
 "nbformat": 4,
 "nbformat_minor": 4
}
