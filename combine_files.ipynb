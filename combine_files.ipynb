{
 "cells": [
  {
   "cell_type": "code",
   "execution_count": 2,
   "metadata": {},
   "outputs": [],
   "source": [
    "import pandas as pd\n",
    "from os import listdir\n",
    "from os.path import isfile, join"
   ]
  },
  {
   "cell_type": "code",
   "execution_count": 7,
   "metadata": {},
   "outputs": [
    {
     "name": "stdout",
     "output_type": "stream",
     "text": [
      "train_wiki_results_with_content_01.csv\n",
      "train_wiki_results_with_content_02.csv\n",
      "train_wiki_results_with_content_03.csv\n",
      "train_wiki_results_with_content_04.csv\n",
      "train_wiki_results_with_content_05.csv\n",
      "train_wiki_results_with_content_06.csv\n",
      "train_wiki_results_with_content_07.csv\n",
      "train_wiki_results_with_content_08.csv\n",
      "train_wiki_results_with_content_09.csv\n",
      "train_wiki_results_with_content_10.csv\n",
      "train_wiki_results_with_content_11.csv\n",
      "train_wiki_results_with_content_12.csv\n",
      "train_wiki_results_with_content_13.csv\n",
      "train_wiki_results_with_content_14.csv\n",
      "train_wiki_results_with_content_15.csv\n",
      "train_wiki_results_with_content_16.csv\n"
     ]
    }
   ],
   "source": [
    "onlyfiles = [f for f in listdir('.') if isfile(join('.', f)) and 'train_wiki_results_with_content_' in f]\n",
    "onlyfiles.sort()\n",
    "# print(onlyfiles)\n",
    "file1 = pd.read_csv(onlyfiles[0])\n",
    "try:\n",
    "    for file in onlyfiles[1:]:\n",
    "        print(file)\n",
    "        file2 = pd.read_csv(file)\n",
    "        combine = [file1, file2]\n",
    "        file1 = pd.concat(combine)\n",
    "\n",
    "except:\n",
    "    pass\n",
    "\n",
    "file1.to_csv(onlyfiles[0][:-7]+'.csv', index=False)"
   ]
  },
  {
   "cell_type": "code",
   "execution_count": null,
   "metadata": {},
   "outputs": [],
   "source": []
  }
 ],
 "metadata": {
  "kernelspec": {
   "display_name": "Python 3",
   "language": "python",
   "name": "python3"
  },
  "language_info": {
   "codemirror_mode": {
    "name": "ipython",
    "version": 3
   },
   "file_extension": ".py",
   "mimetype": "text/x-python",
   "name": "python",
   "nbconvert_exporter": "python",
   "pygments_lexer": "ipython3",
   "version": "3.7.5"
  }
 },
 "nbformat": 4,
 "nbformat_minor": 4
}
